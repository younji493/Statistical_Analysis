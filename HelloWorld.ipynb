{
 "cells": [
  {
   "cell_type": "code",
   "execution_count": 1,
   "id": "0086672e-d3ac-48f3-8623-d7c5352d3dcd",
   "metadata": {},
   "outputs": [],
   "source": [
    "a = 'I want to be a programmer'"
   ]
  },
  {
   "cell_type": "code",
   "execution_count": 2,
   "id": "57f0f956-4f28-404e-8bbf-249b4d073a7d",
   "metadata": {},
   "outputs": [],
   "source": [
    "b = a + ', reality'"
   ]
  },
  {
   "cell_type": "code",
   "execution_count": 3,
   "id": "b53be7fa-02ba-4529-8086-188e91336794",
   "metadata": {},
   "outputs": [
    {
     "name": "stdout",
     "output_type": "stream",
     "text": [
      "I want to be a programmer, reality\n"
     ]
    }
   ],
   "source": [
    "print(b)"
   ]
  },
  {
   "cell_type": "code",
   "execution_count": 4,
   "id": "5deafd6f-c9eb-4565-be05-029663ce7806",
   "metadata": {},
   "outputs": [],
   "source": [
    "a = 'hello' * 3"
   ]
  },
  {
   "cell_type": "code",
   "execution_count": 5,
   "id": "49c0ddd6-d37d-4595-9c91-08ce38bc4bdf",
   "metadata": {},
   "outputs": [
    {
     "name": "stdout",
     "output_type": "stream",
     "text": [
      "hellohellohello\n"
     ]
    }
   ],
   "source": [
    "print(a)"
   ]
  },
  {
   "cell_type": "code",
   "execution_count": 6,
   "id": "b3d2043e-41d9-43ad-b9f0-f65960be7236",
   "metadata": {},
   "outputs": [],
   "source": [
    "a = 'Hello World'"
   ]
  },
  {
   "cell_type": "code",
   "execution_count": 7,
   "id": "64f9edd6-c7b7-4594-89c0-5cf1ada6d125",
   "metadata": {},
   "outputs": [
    {
     "name": "stdout",
     "output_type": "stream",
     "text": [
      "['Hello', 'World']\n"
     ]
    }
   ],
   "source": [
    "print(a.split())"
   ]
  },
  {
   "cell_type": "code",
   "execution_count": null,
   "id": "f23f9918-8bda-4e60-bb36-3f907d13b468",
   "metadata": {},
   "outputs": [],
   "source": []
  }
 ],
 "metadata": {
  "kernelspec": {
   "display_name": "Python 3 (ipykernel)",
   "language": "python",
   "name": "python3"
  },
  "language_info": {
   "codemirror_mode": {
    "name": "ipython",
    "version": 3
   },
   "file_extension": ".py",
   "mimetype": "text/x-python",
   "name": "python",
   "nbconvert_exporter": "python",
   "pygments_lexer": "ipython3",
   "version": "3.13.5"
  }
 },
 "nbformat": 4,
 "nbformat_minor": 5
}
